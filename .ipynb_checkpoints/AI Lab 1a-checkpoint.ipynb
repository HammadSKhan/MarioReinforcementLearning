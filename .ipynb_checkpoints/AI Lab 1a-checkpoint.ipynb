{
 "cells": [
  {
   "cell_type": "code",
   "execution_count": 1,
   "id": "0de7e8e1",
   "metadata": {},
   "outputs": [
    {
     "name": "stdout",
     "output_type": "stream",
     "text": [
      "range(0, 5)\n",
      "0\n",
      "1\n",
      "2\n",
      "3\n",
      "4\n",
      "The range is over\n"
     ]
    }
   ],
   "source": [
    "range(5)\n",
    "range(1,5)\n",
    "range(1,10,2)\n",
    "\n",
    "print(range(5))\n",
    "\n",
    "for i in range(0,5):\n",
    "    print(i)\n",
    "else:\n",
    "    print('The range is over')\n"
   ]
  },
  {
   "cell_type": "code",
   "execution_count": 3,
   "id": "a6e0b5fd",
   "metadata": {},
   "outputs": [
    {
     "name": "stdout",
     "output_type": "stream",
     "text": [
      "This is first\n",
      "this is second\n",
      "{'name': 'zendra', 'code': 6734, 'dept': 'IT'}\n",
      "dict_keys(['name', 'code', 'dept'])\n",
      "dict_values(['zendra', 6734, 'IT'])\n"
     ]
    }
   ],
   "source": [
    "dict = {}\n",
    "dict['one'] = \"This is first\"\n",
    "dict[2] = \"this is second\"\n",
    "smalldict = {'name':'zendra','code':6734,'dept':'IT'}\n",
    "print(dict['one'])\n",
    "print(dict[2])\n",
    "print(smalldict)\n",
    "print(smalldict.keys())\n",
    "print(smalldict.values())"
   ]
  },
  {
   "cell_type": "code",
   "execution_count": 4,
   "id": "8f7ae372",
   "metadata": {},
   "outputs": [
    {
     "name": "stdout",
     "output_type": "stream",
     "text": [
      "('python', 123, 2.663, 'code', 10.2)\n",
      "python\n",
      "(123, 2.663)\n",
      "(2.663, 'code', 10.2)\n",
      "(999, 'program', 999, 'program')\n",
      "('python', 123, 2.663, 'code', 10.2, 999, 'program')\n"
     ]
    }
   ],
   "source": [
    "tuple = ('python',123,2.663,'code',10.2)\n",
    "subtuple = (999,'program')\n",
    "print(tuple)\n",
    "print(tuple[0])\n",
    "print(tuple[1:3])\n",
    "print(tuple[2:])\n",
    "print(subtuple*2)\n",
    "print(tuple + subtuple)"
   ]
  },
  {
   "cell_type": "code",
   "execution_count": 5,
   "id": "b87b635e",
   "metadata": {},
   "outputs": [
    {
     "name": "stdout",
     "output_type": "stream",
     "text": [
      "['python', 123, 2.663, 'code', 10.2]\n",
      "python\n",
      "[123, 2.663]\n",
      "[2.663, 'code', 10.2]\n",
      "[123, 'john', 123, 'john']\n",
      "['python', 123, 2.663, 'code', 10.2, 123, 'john']\n"
     ]
    }
   ],
   "source": [
    "list = ['python',123,2.663,'code',10.2]\n",
    "tinyList = [123,'john']\n",
    "print(list)\n",
    "print(list[0])\n",
    "print(list[1:3])\n",
    "print(list[2:])\n",
    "print(tinyList*2)\n",
    "print(list + tinyList)"
   ]
  },
  {
   "cell_type": "code",
   "execution_count": 7,
   "id": "1f52e470",
   "metadata": {},
   "outputs": [
    {
     "name": "stdout",
     "output_type": "stream",
     "text": [
      "enter value\n",
      "54\n",
      "the value is 54\n"
     ]
    }
   ],
   "source": [
    "print(\"enter value\")\n",
    "value = input()\n",
    "print(\"the value is\", value)"
   ]
  },
  {
   "cell_type": "code",
   "execution_count": 8,
   "id": "ad47fab2",
   "metadata": {},
   "outputs": [
    {
     "name": "stdout",
     "output_type": "stream",
     "text": [
      "Artificial Intelligence Lab\n",
      "A\n",
      "tif\n",
      "tificial Intelligence Lab\n",
      "Artificial Intelligence LabArtificial Intelligence Lab\n",
      "Artificial Intelligence Lab TEST\n"
     ]
    }
   ],
   "source": [
    "str = \"Artificial Intelligence Lab\"\n",
    "print(str)\n",
    "print(str[0])\n",
    "print(str[2:5])\n",
    "print(str[2:])\n",
    "print(str * 2)\n",
    "print(str + \" TEST\")"
   ]
  },
  {
   "cell_type": "code",
   "execution_count": null,
   "id": "3a2169cc",
   "metadata": {},
   "outputs": [],
   "source": []
  }
 ],
 "metadata": {
  "kernelspec": {
   "display_name": "Python 3 (ipykernel)",
   "language": "python",
   "name": "python3"
  },
  "language_info": {
   "codemirror_mode": {
    "name": "ipython",
    "version": 3
   },
   "file_extension": ".py",
   "mimetype": "text/x-python",
   "name": "python",
   "nbconvert_exporter": "python",
   "pygments_lexer": "ipython3",
   "version": "3.9.13"
  }
 },
 "nbformat": 4,
 "nbformat_minor": 5
}
